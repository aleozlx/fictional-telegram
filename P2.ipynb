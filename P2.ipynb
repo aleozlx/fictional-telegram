{
 "cells": [
  {
   "cell_type": "code",
   "execution_count": 1,
   "metadata": {},
   "outputs": [
    {
     "name": "stdout",
     "output_type": "stream",
     "text": [
      "(17, 784) (17, 784) (50, 784) (50, 784)\n",
      "(34, 784) (100, 784)\n"
     ]
    }
   ],
   "source": [
    "%matplotlib inline\n",
    "from matplotlib import pyplot as plt\n",
    "import pandas as pd\n",
    "import numpy as np\n",
    "from pprint import pprint\n",
    "\n",
    "train_1 = np.array(pd.read_csv('Part2_1_Train.csv', header=None))\n",
    "train_3 = np.array(pd.read_csv('Part2_3_Train.csv', header=None))\n",
    "test_1 = np.array(pd.read_csv('Part2_1_Test.csv', header=None))\n",
    "test_3 = np.array(pd.read_csv('Part2_3_Test.csv', header=None))\n",
    "\n",
    "np.random.seed(21)\n",
    "X_train = np.vstack((train_1, train_3))\n",
    "y_train = np.concatenate((np.tile(0, train_1.shape[0]), np.tile(1, train_3.shape[0])))\n",
    "idx_train = np.array(range(X_train.shape[0]))\n",
    "np.random.shuffle(idx_train)\n",
    "X_train = X_train[idx_train]\n",
    "y_train = y_train[idx_train]\n",
    "\n",
    "X_test = np.vstack((test_1, test_3))\n",
    "y_test = np.concatenate((np.tile(0, test_1.shape[0]), np.tile(1, test_3.shape[0])))\n",
    "idx_test = np.array(range(X_test.shape[0]))\n",
    "np.random.shuffle(idx_test)\n",
    "X_test = X_test[idx_test]\n",
    "y_test = y_test[idx_test]\n",
    "\n",
    "enc = np.eye(2)\n",
    "def one_hot(d):\n",
    "    return enc[d]\n",
    "\n",
    "print(train_1.shape, train_3.shape, test_1.shape, test_3.shape)\n",
    "print(X_train.shape, X_test.shape)"
   ]
  },
  {
   "cell_type": "code",
   "execution_count": 2,
   "metadata": {},
   "outputs": [
    {
     "name": "stdout",
     "output_type": "stream",
     "text": [
      "(2, 785) (2, 3)\n"
     ]
    }
   ],
   "source": [
    "W_conv = np.empty((2, 28*28+1))\n",
    "W_out = np.empty((2, 2+1))\n",
    "\n",
    "class seeded_session:\n",
    "    def __enter__(self):\n",
    "        np.random.seed(25523)\n",
    "        global W_conv, W_out\n",
    "        W_conv[:] = np.random.rand(2, 28*28+1)*1e-5\n",
    "        W_out[:] = np.random.rand(2, 2+1)\n",
    "        return W_conv, W_out\n",
    "    def __exit__(self, type, value, traceback):\n",
    "        pass\n",
    "\n",
    "with seeded_session():\n",
    "    print(W_conv.shape, W_out.shape)"
   ]
  },
  {
   "cell_type": "markdown",
   "metadata": {},
   "source": [
    "# Forward pass"
   ]
  },
  {
   "cell_type": "code",
   "execution_count": 3,
   "metadata": {},
   "outputs": [
    {
     "name": "stdout",
     "output_type": "stream",
     "text": [
      "[0.57186129 0.42813871] 0\n",
      "[0.57183252 0.42816748] 1\n"
     ]
    },
    {
     "data": {
      "image/png": "[encoded data removed]",
      "text/plain": [
       "<Figure size 432x288 with 1 Axes>"
      ]
     },
     "metadata": {
      "needs_background": "light"
     },
     "output_type": "display_data"
    },
    {
     "data": {
      "image/png": "[encoded data removed]",
      "text/plain": [
       "<Figure size 432x288 with 1 Axes>"
      ]
     },
     "metadata": {
      "needs_background": "light"
     },
     "output_type": "display_data"
    }
   ],
   "source": [
    "def conv(w, n):\n",
    "#     nW = w.shape[0] - 1 # number of weights (excluding bias) in the layer\n",
    "#     forward = lambda s: np.tanh(np.dot(w, np.append(s, 1.0)))\n",
    "#     return lambda x: np.array([forward(x[i: i+nW]) for i in range(n)])\n",
    "    # since there isn't any real convolution happening...\n",
    "    return lambda x: np.array([np.tanh(np.dot(w, np.append(x, 1.0)))])\n",
    "\n",
    "def softmax(x):\n",
    "    a = np.exp(x)\n",
    "    return a / np.sum(a)\n",
    "\n",
    "def perceptron(w):\n",
    "    return lambda x: np.dot(w, np.append(x, 1.0))\n",
    "\n",
    "conv_filters = [conv(w, 1) for w in W_conv]\n",
    "conv_layer = lambda x: np.array([f(x) for f in conv_filters])\n",
    "output_neurons = [perceptron(w) for w in W_out]\n",
    "fc_layer = lambda x: softmax([f(x) for f in output_neurons])\n",
    "model = lambda x: fc_layer(conv_layer(x))\n",
    "\n",
    "with seeded_session():\n",
    "    for k in range(2):\n",
    "        plt.figure()\n",
    "        plt.imshow(X_train[k].reshape(28, 28).T)\n",
    "        print(model(X_train[k]), y_train[k])"
   ]
  },
  {
   "cell_type": "markdown",
   "metadata": {},
   "source": [
    "# Backward pass\n",
    "\n",
    "Assuming loss function: $ \\text{loss}(\\mathbf{y}) = -\\sum_j { d_j \\log y_j } $\n",
    "\n",
    "**Output layer**\n",
    "\n",
    "$$\n",
    "\\delta_j^H = \\frac{\\partial E}{\\partial \\nu_j^H} = -e_j\n",
    "$$\n",
    "\n",
    "$$\n",
    "\\Delta w_{ij}^H = -\\alpha \\delta_j^H y_i^{H-1}\n",
    "$$\n",
    "\n",
    "$$\n",
    "\\Delta b_j^H = -\\alpha \\delta_j^H\n",
    "$$\n",
    "\n",
    "**Hidden layer**\n",
    "\n",
    "$$\n",
    "\\delta_j^h = \\frac{\\partial E}{\\partial \\nu_j^h} = \\left( \\sum_{l = 1}^{L^{h+1}} \\frac{\\partial E}{\\partial \\nu_l^{h+1}} \\frac{\\partial \\nu_l^{h+1}}{\\partial y_j^h} \\right) \\frac{\\partial y_j^h}{\\partial \\nu_j^h}\n",
    "=\\left( \\sum_{l = 1}^{L^{h+1}} {\\delta_l^H w_{jl}^H} \\right) (1-(y_j^h)^2)\n",
    "$$\n",
    "\n",
    "$$\n",
    "\\Delta w_{i}^h = -\\alpha \\sum_{j=1}^{L^0} {\\delta_j^h \\frac{\\partial \\nu_j^h}{\\partial w_i^h}}\n",
    "=-\\alpha \\sum_{j=1}^{L^0} {\\delta_j^h  {x_{j+i-1}}}\n",
    "$$\n",
    "\n",
    "$$\n",
    "\\Delta b^h = -\\alpha \\sum_{j=1}^{L^0} {\\delta_j^h \\frac{\\partial \\nu_j^h}{\\partial b^h}}\n",
    "=-\\alpha \\sum_{j=1}^{L^0} {\\delta_j^h }\n",
    "$$"
   ]
  },
  {
   "cell_type": "code",
   "execution_count": 4,
   "metadata": {},
   "outputs": [
    {
     "name": "stdout",
     "output_type": "stream",
     "text": [
      "{'alpha': 0.2,\n",
      " 'd': 0,\n",
      " 'delta_conv': array([[0.16017613],\n",
      "       [0.00313819]]),\n",
      " 'delta_out': array([-0.42813871,  0.42813871]),\n",
      " 'e': array([ 0.42813871, -0.42813871]),\n",
      " 'idx_filter': 1,\n",
      " 'update_conv': array([[-0.        , -0.        , -0.        , ..., -0.        ,\n",
      "        -0.        , -0.03203523],\n",
      "       [-0.        , -0.        , -0.        , ..., -0.        ,\n",
      "        -0.        , -0.00062764]]),\n",
      " 'update_out': array([[ 3.05496481e-05,  3.13843981e-05,  8.56277426e-02],\n",
      "       [-3.05496481e-05, -3.13843981e-05, -8.56277426e-02]]),\n",
      " 'y_conv': array([[0.00035677],\n",
      "       [0.00036652]]),\n",
      " 'y_output': array([0.57186129, 0.42813871])}\n"
     ]
    }
   ],
   "source": [
    "def train_one(x, d, alpha):\n",
    "    y_conv = conv_layer(x) # shape: (filter, spatial) = (2, 1)\n",
    "    y_output = fc_layer(y_conv) # shape: (neuron, ) = (2, )\n",
    "    e = one_hot(d) - y_output\n",
    "    # delta_out.shape == y_output.shape\n",
    "    delta_out = -e\n",
    "    # W_out.shape: (neuron: j, [out] weights+bias: i) = (2, 2+1)\n",
    "    update_out = -alpha * np.outer(delta_out, np.append(np.ravel(y_conv), 1.0))\n",
    "    # delta_conv.shape == y_conv.shape\n",
    "    #                        vvvv output weights without any bias\n",
    "    delta_conv = (np.dot(W_out[:, :-1].T, delta_out) * np.ravel(1-y_conv**2)).reshape(y_conv.shape)\n",
    "    # W_conv.shape: (filter, [conv] weights+bias) = (2, 28*28+1)\n",
    "    update_conv = np.zeros(W_conv.shape)\n",
    "    for idx_filter in range(update_conv.shape[0]):\n",
    "        update_conv[idx_filter, :] = -alpha * np.array(\n",
    "            [np.dot(delta_conv[idx_filter], x[i: i+delta_conv.shape[1]])\n",
    "                for i in range(W_conv.shape[1]-1)] +\n",
    "            [np.sum(delta_conv[idx_filter])]\n",
    "        )\n",
    "    return {k:v for k,v in locals().items() if k not in set(['x'])}\n",
    "\n",
    "with seeded_session():\n",
    "    pprint(train_one(X_train[0], y_train[0], 0.2))"
   ]
  },
  {
   "cell_type": "code",
   "execution_count": 5,
   "metadata": {},
   "outputs": [
    {
     "name": "stdout",
     "output_type": "stream",
     "text": [
      "{'alpha': 0.2,\n",
      " 'd': 0,\n",
      " 'update_conv': array([[-0.        , -0.        , -0.        , ..., -0.        ,\n",
      "        -0.        , -0.03203523],\n",
      "       [-0.        , -0.        , -0.        , ..., -0.        ,\n",
      "        -0.        , -0.00062764]]),\n",
      " 'update_out': array([[ 3.05496628e-05,  3.13843951e-05,  8.56277426e-02],\n",
      "       [-3.05496628e-05, -3.13843951e-05, -8.56277426e-02]])}\n"
     ]
    }
   ],
   "source": [
    "def autograd(params, f):\n",
    "    epsilon = 1e-6\n",
    "    backup = params.copy().ravel()\n",
    "    grad = np.empty(params.shape)\n",
    "    for i in range(len(backup)):\n",
    "        params.flat[i] = backup[i] + epsilon\n",
    "        f1 = f()\n",
    "        params.flat[i] = backup[i] - epsilon\n",
    "        f2 = f()\n",
    "        grad.flat[i] = (f1-f2)/(epsilon*2.0)\n",
    "        params.flat[i] = backup.flat[i]\n",
    "    return grad\n",
    "\n",
    "def train_one_autodiff(x, d, alpha):\n",
    "    loss = lambda x, d: -np.sum(one_hot(d)*np.log(model(x)))\n",
    "    update_out = -alpha * autograd(W_out, lambda: loss(x, d))\n",
    "    update_conv = -alpha * autograd(W_conv, lambda: loss(x, d))\n",
    "    return {k:v for k,v in locals().items() if k not in set(['x', 'loss'])}\n",
    "\n",
    "with seeded_session():\n",
    "    pprint(train_one_autodiff(X_train[0], y_train[0], 0.2))"
   ]
  },
  {
   "cell_type": "code",
   "execution_count": 6,
   "metadata": {},
   "outputs": [
    {
     "data": {
      "application/vnd.jupyter.widget-view+json": {
       "model_id": "aee54b7e3e70492b9969ea456381a159",
       "version_major": 2,
       "version_minor": 0
      },
      "text/plain": [
       "IntProgress(value=0, description='epoch', max=24)"
      ]
     },
     "metadata": {},
     "output_type": "display_data"
    }
   ],
   "source": [
    "from ipywidgets import IntProgress\n",
    "from IPython.display import display\n",
    "\n",
    "loss = []\n",
    "acc = []\n",
    "vacc = []\n",
    "epochs = 25\n",
    "\n",
    "progress = IntProgress(description='epoch', min=0, max=epochs-1)\n",
    "display(progress)\n",
    "\n",
    "with seeded_session():\n",
    "    for i_epoch in range(epochs):       \n",
    "        epoch_loss = []\n",
    "        epoch_acc = []\n",
    "        for x, d in zip(X_train, y_train):\n",
    "            v = train_one(x, d, 0.001)\n",
    "            epoch_loss.append(-np.sum(one_hot(d)*np.log(v['y_output'])))\n",
    "            epoch_acc.append(np.argmax(v['y_output']) == d)\n",
    "            W_conv += v['update_conv']\n",
    "            W_out += v['update_out']\n",
    "        acc.append(np.mean(epoch_acc))\n",
    "        loss.append(np.mean(epoch_loss))\n",
    "        epoch_vacc = []\n",
    "        for x, d in zip(X_test, y_test):\n",
    "            y = model(x)\n",
    "            epoch_vacc.append(np.argmax(y) == d)\n",
    "        vacc.append(np.mean(epoch_vacc))\n",
    "        progress.value = i_epoch"
   ]
  },
  {
   "cell_type": "code",
   "execution_count": 7,
   "metadata": {},
   "outputs": [
    {
     "data": {
      "text/plain": [
       "[<matplotlib.lines.Line2D at 0x7fc773e9ac50>]"
      ]
     },
     "execution_count": 7,
     "metadata": {},
     "output_type": "execute_result"
    },
    {
     "data": {
      "image/png": "[encoded data removed]",
      "text/plain": [
       "<Figure size 432x288 with 1 Axes>"
      ]
     },
     "metadata": {
      "needs_background": "light"
     },
     "output_type": "display_data"
    }
   ],
   "source": [
    "plt.plot(list(range(epochs)), loss)"
   ]
  },
  {
   "cell_type": "code",
   "execution_count": 8,
   "metadata": {},
   "outputs": [
    {
     "data": {
      "text/plain": [
       "<matplotlib.legend.Legend at 0x7fc771d10048>"
      ]
     },
     "execution_count": 8,
     "metadata": {},
     "output_type": "execute_result"
    },
    {
     "data": {
      "image/png": "[encoded data removed]",
      "text/plain": [
       "<Figure size 432x288 with 1 Axes>"
      ]
     },
     "metadata": {
      "needs_background": "light"
     },
     "output_type": "display_data"
    }
   ],
   "source": [
    "plt.plot(list(range(epochs)), acc, label='acc')\n",
    "plt.plot(list(range(epochs)), vacc, label='vacc')\n",
    "plt.legend()"
   ]
  },
  {
   "cell_type": "code",
   "execution_count": 9,
   "metadata": {},
   "outputs": [
    {
     "data": {
      "text/plain": [
       "<matplotlib.colorbar.Colorbar at 0x7fc771ca0d30>"
      ]
     },
     "execution_count": 9,
     "metadata": {},
     "output_type": "execute_result"
    },
    {
     "data": {
      "image/png": "[encoded data removed]",
      "text/plain": [
       "<Figure size 432x288 with 2 Axes>"
      ]
     },
     "metadata": {
      "needs_background": "light"
     },
     "output_type": "display_data"
    }
   ],
   "source": [
    "plt.imshow(W_conv[0, :-1].reshape(28, 28).T)\n",
    "plt.colorbar()"
   ]
  },
  {
   "cell_type": "code",
   "execution_count": 10,
   "metadata": {},
   "outputs": [
    {
     "data": {
      "text/plain": [
       "<matplotlib.colorbar.Colorbar at 0x7fc773e41cf8>"
      ]
     },
     "execution_count": 10,
     "metadata": {},
     "output_type": "execute_result"
    },
    {
     "data": {
      "image/png": "[encoded data removed]",
      "text/plain": [
       "<Figure size 432x288 with 2 Axes>"
      ]
     },
     "metadata": {
      "needs_background": "light"
     },
     "output_type": "display_data"
    }
   ],
   "source": [
    "plt.imshow(W_conv[1, :-1].reshape(28, 28).T)\n",
    "plt.colorbar()"
   ]
  },
  {
   "cell_type": "code",
   "execution_count": null,
   "metadata": {},
   "outputs": [],
   "source": []
  }
 ],
 "metadata": {
  "kernelspec": {
   "display_name": "Python 3",
   "language": "python",
   "name": "python3"
  },
  "language_info": {
   "codemirror_mode": {
    "name": "ipython",
    "version": 3
   },
   "file_extension": ".py",
   "mimetype": "text/x-python",
   "name": "python",
   "nbconvert_exporter": "python",
   "pygments_lexer": "ipython3",
   "version": "3.6.7"
  }
 },
 "nbformat": 4,
 "nbformat_minor": 2
}

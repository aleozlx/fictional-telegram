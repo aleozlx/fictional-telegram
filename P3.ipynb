{
 "cells": [
  {
   "cell_type": "code",
   "execution_count": 1,
   "metadata": {},
   "outputs": [
    {
     "name": "stdout",
     "output_type": "stream",
     "text": [
      "(200, 784) (50, 784)\n"
     ]
    }
   ],
   "source": [
    "%matplotlib inline\n",
    "from matplotlib import pyplot as plt\n",
    "import pandas as pd\n",
    "import numpy as np\n",
    "from pprint import pprint\n",
    "\n",
    "train = list()\n",
    "test = list()\n",
    "\n",
    "for i in range(10):\n",
    "    train.append(np.array(pd.read_csv('Part3_%d_Train.csv'%i, header=None)))\n",
    "    test.append(np.array(pd.read_csv('Part3_%d_Test.csv'%i, header=None)))\n",
    "\n",
    "np.random.seed(21)\n",
    "X_train = np.vstack(train)\n",
    "y_train = np.concatenate([np.tile(i, train[i].shape[0]) for i in range(10)])\n",
    "idx_train = np.array(range(X_train.shape[0]))\n",
    "np.random.shuffle(idx_train)\n",
    "X_train = X_train[idx_train][:200]\n",
    "y_train = y_train[idx_train][:200]\n",
    "\n",
    "X_test = np.vstack(test)\n",
    "y_test = np.concatenate([np.tile(i, test[i].shape[0]) for i in range(10)])\n",
    "idx_test = np.array(range(X_test.shape[0]))\n",
    "np.random.shuffle(idx_test)\n",
    "X_test = X_test[idx_test][:50]\n",
    "y_test = y_test[idx_test][:50]\n",
    "\n",
    "enc = np.eye(10)\n",
    "def one_hot(d):\n",
    "    return enc[d]\n",
    "\n",
    "print(X_train.shape, X_test.shape)\n",
    "# print(y_test)"
   ]
  },
  {
   "cell_type": "code",
   "execution_count": 6,
   "metadata": {},
   "outputs": [
    {
     "name": "stdout",
     "output_type": "stream",
     "text": [
      "(16, 197) (10, 7745)\n"
     ]
    }
   ],
   "source": [
    "from skimage.util import view_as_windows, view_as_blocks\n",
    "W_conv = np.zeros((16, (7+21)*7+1))\n",
    "W_out = np.empty((10, 22*22*16+1))\n",
    "\n",
    "class seeded_session:\n",
    "    def __enter__(self):\n",
    "        np.random.seed(25523)\n",
    "        global W_conv, W_out\n",
    "        padded_weights = W_conv[:, :-1].reshape((-1, 7, 28))\n",
    "        padded_weights[:, :, :7] = np.random.rand(16, 7, 7)*1e-4\n",
    "        padded_weights[:, :, 7:] = 0#np.random.rand(16, 7, 1)*1e-4\n",
    "        W_conv[:, -1:] = np.random.rand(16, 1)*1e-5\n",
    "        W_out[:] = np.random.rand(*W_out.shape)\n",
    "        return W_conv, W_out\n",
    "    def __exit__(self, type, value, traceback):\n",
    "        pass\n",
    "\n",
    "with seeded_session():\n",
    "    print(W_conv.shape, W_out.shape)"
   ]
  },
  {
   "cell_type": "markdown",
   "metadata": {},
   "source": [
    "# Forward pass"
   ]
  },
  {
   "cell_type": "code",
   "execution_count": null,
   "metadata": {},
   "outputs": [],
   "source": [
    "from scipy.signal import convolve2d\n",
    "A = np.arange(9).reshape(3,3)\n",
    "B = np.ones((2,2))\n",
    "print(A)\n",
    "print(B)\n",
    "convolve2d(A,B,mode='valid')"
   ]
  },
  {
   "cell_type": "code",
   "execution_count": 5,
   "metadata": {},
   "outputs": [
    {
     "name": "stdout",
     "output_type": "stream",
     "text": [
      "[ 0.08286333  0.06527992  0.06700819  0.12758393  0.10672698  0.10791879\n",
      "  0.13492798  0.1316972   0.06665001  0.10934368] 6\n",
      "[ 0.08193422  0.06645619  0.06683819  0.12520665  0.10848462  0.10742676\n",
      "  0.13506241  0.13072481  0.06672083  0.11114532] 0\n",
      "[ 0.08185074  0.06583572  0.06729152  0.12790936  0.10520385  0.10992169\n",
      "  0.13471538  0.13237192  0.06546616  0.10943368] 8\n"
     ]
    },
    {
     "data": {
      "image/png": "[encoded data removed]",
      "text/plain": [
       "<Figure size 432x288 with 1 Axes>"
      ]
     },
     "metadata": {
      "needs_background": "light"
     },
     "output_type": "display_data"
    },
    {
     "data": {
      "image/png": "[encoded data removed]",
      "text/plain": [
       "<Figure size 432x288 with 1 Axes>"
      ]
     },
     "metadata": {
      "needs_background": "light"
     },
     "output_type": "display_data"
    },
    {
     "data": {
      "image/png": "[encoded data removed]",
      "text/plain": [
       "<Figure size 432x288 with 1 Axes>"
      ]
     },
     "metadata": {
      "needs_background": "light"
     },
     "output_type": "display_data"
    }
   ],
   "source": [
    "import itertools\n",
    "\n",
    "\n",
    "def conv7(w):\n",
    "    \"\"\" 7x7 convolution in matrix form \"\"\"\n",
    "    def forward(x):\n",
    "        convmat = np.block([\n",
    "            #                 vvv throw away final padding & bias\n",
    "            [np.zeros(jj), w[:-22], np.zeros(21-jj)] for jj in range(22)\n",
    "        ])\n",
    "        rows = np.array([np.dot(convmat, x[ii*28:ii*28+7*28]) for ii in range(22)])\n",
    "        return np.tanh(rows.ravel() + w[-1])\n",
    "    from scipy.signal import convolve2d\n",
    "    def forward0(x):\n",
    "        return np.tanh(convolve2d(\n",
    "            x.reshape(28, 28),\n",
    "            w[:-1].reshape((7, 28))[:, :7],\n",
    "            mode='valid').ravel() + w[-1])\n",
    "    return forward\n",
    "\n",
    "def softmax(x):\n",
    "    a = np.exp(x)\n",
    "    return a / np.sum(a)\n",
    "\n",
    "def perceptron(w):\n",
    "    return lambda x: np.dot(w[:-1], x) + w[-1]\n",
    "\n",
    "conv_filters = [conv7(w) for w in W_conv]\n",
    "conv_layer = lambda x: np.array([f(x) for f in conv_filters])\n",
    "output_neurons = [perceptron(w) for w in W_out]\n",
    "fc_layer = lambda x: softmax([f(x.ravel()) for f in output_neurons])\n",
    "model = lambda x: fc_layer(conv_layer(x))\n",
    "\n",
    "with seeded_session():\n",
    "    for k in range(3):\n",
    "        plt.figure()\n",
    "        plt.imshow(X_train[k].reshape(28, 28).T)\n",
    "        print(model(X_train[k]), y_train[k])"
   ]
  },
  {
   "cell_type": "markdown",
   "metadata": {},
   "source": [
    "# Backward pass\n",
    "\n",
    "Assuming loss function: $ \\text{loss}(\\mathbf{y}) = -\\sum_j { d_j \\log y_j } $\n",
    "\n",
    "**Output layer**\n",
    "\n",
    "$$\n",
    "\\delta_j^H = \\frac{\\partial E}{\\partial \\nu_j^H} = -e_j\n",
    "$$\n",
    "\n",
    "$$\n",
    "\\Delta w_{ij}^H = -\\alpha \\delta_j^H y_i^{H-1}\n",
    "$$\n",
    "\n",
    "$$\n",
    "\\Delta b_j^H = -\\alpha \\delta_j^H\n",
    "$$\n",
    "\n",
    "**Hidden layer**\n",
    "\n",
    "$$\n",
    "\\delta_j^h = \\frac{\\partial E}{\\partial \\nu_j^h} = \\left( \\sum_{l = 1}^{L^{h+1}} \\frac{\\partial E}{\\partial \\nu_l^{h+1}} \\frac{\\partial \\nu_l^{h+1}}{\\partial y_j^h} \\right) \\frac{\\partial y_j^h}{\\partial \\nu_j^h}\n",
    "=\\left( \\sum_{l = 1}^{L^{h+1}} {\\delta_l^H w_{jl}^H} \\right) (1-(y_j^h)^2)\n",
    "$$\n",
    "\n",
    "$$\n",
    "\\Delta w_{i}^h = -\\alpha \\sum_{j=1}^{L^0} {\\delta_j^h \\frac{\\partial \\nu_j^h}{\\partial w_i^h}}\n",
    "=-\\alpha \\sum_{j=1}^{L^0} {\\delta_j^h  {x_{j+i-1}}}\n",
    "$$\n",
    "\n",
    "$$\n",
    "\\Delta b^h = -\\alpha \\sum_{j=1}^{L^0} {\\delta_j^h \\frac{\\partial \\nu_j^h}{\\partial b^h}}\n",
    "=-\\alpha \\sum_{j=1}^{L^0} {\\delta_j^h }\n",
    "$$"
   ]
  },
  {
   "cell_type": "code",
   "execution_count": null,
   "metadata": {},
   "outputs": [],
   "source": [
    "np.arange(28*28)[list(itertools.chain(*[range(i,i+7) for i in range(0, 7*28, 28)]))] #s(x)\n",
    "# np. #x[?]"
   ]
  },
  {
   "cell_type": "code",
   "execution_count": null,
   "metadata": {},
   "outputs": [],
   "source": [
    "test_image = np.arange(25).reshape(5,5)\n",
    "print(test_image)\n",
    "test_filter = np.ones((3,3))\n",
    "np.array([test_image[i:i+2, j:j+2].ravel() for i in range(3) for j in range(3)])"
   ]
  },
  {
   "cell_type": "code",
   "execution_count": null,
   "metadata": {},
   "outputs": [],
   "source": [
    "[ np.arange(28*28).reshape(28, 28)[i:i+22, j:j+22].ravel() for i in range(7) for j in range(7) ]"
   ]
  },
  {
   "cell_type": "code",
   "execution_count": 6,
   "metadata": {},
   "outputs": [
    {
     "name": "stdout",
     "output_type": "stream",
     "text": [
      "{'alpha': 0.2,\n",
      " 'convolve2d': <function convolve2d at 0x7fa04aa680d0>,\n",
      " 'd': 6,\n",
      " 'delta_conv': array([-0.17362328, -0.21550203,  0.2747383 , -0.34913464, -0.09140952]),\n",
      " 'delta_out': array([ 0.08286333,  0.06527992,  0.06700819,  0.12758393,  0.10672698]),\n",
      " 'e': array([-0.08286333, -0.06527992, -0.06700819, -0.12758393, -0.10672698,\n",
      "       -0.10791879,  0.86507202, -0.1316972 , -0.06665001, -0.10934368]),\n",
      " 'idx_filter': 15,\n",
      " 'update_conv': array([ 0.95216406,  0.29983075,  0.11668588,  0.3149858 ,  0.70376264]),\n",
      " 'update_out': array([ -1.40117765e-07,  -1.40117765e-07,  -1.40117765e-07,\n",
      "        -1.40117765e-07,  -1.40117765e-07]),\n",
      " 'verbose': True,\n",
      " 'y_conv': array([[  8.45475152e-06,   8.45475152e-06,   8.45475152e-06, ...,\n",
      "          8.45475152e-06,   8.45475152e-06,   8.45475152e-06],\n",
      "       [  2.07321743e-06,   2.07321743e-06,   2.07321743e-06, ...,\n",
      "          2.07321743e-06,   2.07321743e-06,   2.07321743e-06],\n",
      "       [  7.19324359e-07,   7.19324359e-07,   7.19324359e-07, ...,\n",
      "          7.19324359e-07,   7.19324359e-07,   7.19324359e-07],\n",
      "       ..., \n",
      "       [  7.37697111e-06,   7.37697111e-06,   7.37697111e-06, ...,\n",
      "          7.37697111e-06,   7.37697111e-06,   7.37697111e-06],\n",
      "       [  5.01076158e-06,   5.01076158e-06,   5.01076158e-06, ...,\n",
      "          5.01076158e-06,   5.01076158e-06,   5.01076158e-06],\n",
      "       [  8.98937916e-06,   8.98937916e-06,   8.98937916e-06, ...,\n",
      "          8.98937916e-06,   8.98937916e-06,   8.98937916e-06]]),\n",
      " 'y_output': array([ 0.08286333,  0.06527992,  0.06700819,  0.12758393,  0.10672698,\n",
      "        0.10791879,  0.13492798,  0.1316972 ,  0.06665001,  0.10934368])}\n"
     ]
    }
   ],
   "source": [
    "def train_one(x, d, alpha, verbose=False):\n",
    "    y_conv = conv_layer(x) # shape: (filter, spatial) = (16, 22*22)\n",
    "    y_output = fc_layer(y_conv) # shape: (neuron, ) = (10, )\n",
    "    e = one_hot(d) - y_output\n",
    "    # delta_out.shape == y_output.shape\n",
    "    delta_out = -e\n",
    "    # W_out.shape: (neuron: j, [out] weights+bias: i) = (10, 16*22*22+1)\n",
    "    update_out = -alpha * np.outer(delta_out, np.append(np.ravel(y_conv), 1.0))\n",
    "    # delta_conv.shape == y_conv.shape\n",
    "    #                        vvvv output weights without any bias\n",
    "    delta_conv = (np.dot(W_out[:, :-1].T, delta_out) * np.ravel(1-y_conv**2)).reshape(y_conv.shape)\n",
    "    # W_conv.shape: (filter, [conv] weights+bias) = (16, 7*(7+21)+1)\n",
    "    update_conv = np.zeros((16, 7*7+1)) # vs (W_conv.shape) deal with padding when updating\n",
    "    from scipy.signal import convolve2d\n",
    "    for idx_filter in range(update_conv.shape[0]):\n",
    "        update_conv[idx_filter, :] = -alpha * np.array(\n",
    "#             [np.dot(delta_conv[idx_filter], x[i: i+delta_conv.shape[1]]) for i in range(7*7)] +\n",
    "                [np.dot(delta_conv[idx_filter], x.reshape(28, 28)[i:i+22, j:j+22].ravel())\n",
    "                        for i in range(7) for j in range(7) \n",
    "                ]+\n",
    "#                 list(convolve2d(\n",
    "#                     delta_conv[idx_filter].reshape((22, 22)),\n",
    "#                     x.reshape(28, 28),\n",
    "#                     mode='valid').ravel())+\n",
    "                [np.sum(delta_conv[idx_filter])]\n",
    "        )\n",
    "    if verbose:\n",
    "        pprint({k:(v.ravel()[:5] if k.startswith('update') or k.startswith('delta') else v)\n",
    "            for k,v in locals().items() if k not in set(['x'])})\n",
    "    return {k:v for k,v in locals().items() if k not in set(['x', 'y_conv'])}\n",
    "\n",
    "with seeded_session():\n",
    "    train_one(X_train[0], y_train[0], 0.2, verbose=True)"
   ]
  },
  {
   "cell_type": "code",
   "execution_count": null,
   "metadata": {},
   "outputs": [],
   "source": [
    "def autograd(params, f, truncate=False):\n",
    "    epsilon = 1e-6\n",
    "    backup = params.copy().ravel()\n",
    "    grad = np.empty(params.shape)\n",
    "    for i in (range(min(5, len(backup))) if truncate else range(len(backup))):\n",
    "        params.flat[i] = backup[i] + epsilon\n",
    "        f1 = f()\n",
    "        params.flat[i] = backup[i] - epsilon\n",
    "        f2 = f()\n",
    "        grad.flat[i] = (f1-f2)/(epsilon*2.0)\n",
    "        params.flat[i] = backup.flat[i]\n",
    "    if truncate:\n",
    "        return grad.ravel()[:5]\n",
    "    else:\n",
    "        return grad\n",
    "\n",
    "def train_one_autodiff(x, d, alpha):\n",
    "    loss = lambda x, d: -np.sum(one_hot(d)*np.log(model(x)))\n",
    "    update_out = -alpha * autograd(W_out, lambda: loss(x, d), truncate=True)\n",
    "    update_conv = -alpha * autograd(W_conv, lambda: loss(x, d), truncate=True)\n",
    "    return {k:(v.ravel()[:5] if k.startswith('update') else v)\n",
    "            for k,v in locals().items() if k not in set(['x', 'loss'])}\n",
    "\n",
    "with seeded_session():\n",
    "    pprint(train_one_autodiff(X_train[0], y_train[0], 0.2))"
   ]
  },
  {
   "cell_type": "code",
   "execution_count": null,
   "metadata": {},
   "outputs": [],
   "source": [
    "def phi(v):\n",
    "    return np.tanh(v.ravel())\n",
    "\n",
    "def grad_conv_delta():\n",
    "    \n",
    "    def conv7(w):\n",
    "        def v(x):\n",
    "            return convolve2d(\n",
    "                x.reshape(28, 28),\n",
    "                w[:-1].reshape((7, 28))[:, :7],\n",
    "                mode='valid') + w[-1]\n",
    "        def forward(x):\n",
    "            local_induced_field = v(x)\n",
    "            output = phi(local_induced_field)\n",
    "            return (output, local_induced_field)\n",
    "        return forward\n",
    "    \n",
    "    conv_filters = [conv7(w) for w in W_conv]\n",
    "    def conv_layer(x):\n",
    "        ir = [f(x)[0] for f in conv_filters]\n",
    "        return np.array([i[0] for i in ir]), np.array([i[1] for i in ir])\n",
    "        \n",
    "    output_neurons = [perceptron(w) for w in W_out]\n",
    "    fc_layer = lambda x: softmax([f(x.ravel()) for f in output_neurons])\n",
    "    \n",
    "with seeded_session():\n",
    "    v_conv0 = conv_layer(X_train[0])\n",
    "    f_op = lambda: -np.sum(one_hot(y_train[0])*np.log(fc_layer(phi(v_conv0))))\n",
    "    print(autograd(v_conv0, f_op, truncate=True))"
   ]
  },
  {
   "cell_type": "code",
   "execution_count": 7,
   "metadata": {},
   "outputs": [
    {
     "data": {
      "application/vnd.jupyter.widget-view+json": {
       "model_id": "849f07b0fba6475eb6923cd2b920a38c",
       "version_major": 2,
       "version_minor": 0
      },
      "text/plain": [
       "IntProgress(value=0, description='epoch', max=9)"
      ]
     },
     "metadata": {},
     "output_type": "display_data"
    },
    {
     "data": {
      "application/vnd.jupyter.widget-view+json": {
       "model_id": "39afe5bd728a451d9be5ad7830846d59",
       "version_major": 2,
       "version_minor": 0
      },
      "text/plain": [
       "IntProgress(value=0, description='step', max=199)"
      ]
     },
     "metadata": {},
     "output_type": "display_data"
    }
   ],
   "source": [
    "from ipywidgets import IntProgress\n",
    "from IPython.display import display\n",
    "\n",
    "loss = []\n",
    "acc = []\n",
    "vacc = []\n",
    "epochs = 10\n",
    "\n",
    "progress_epoch = IntProgress(description='epoch', min=0, max=epochs-1)\n",
    "progress_step = IntProgress(description='step', min=0, max=X_train.shape[0]-1)\n",
    "display(progress_epoch)\n",
    "display(progress_step)\n",
    "\n",
    "with seeded_session():\n",
    "    for i_epoch in range(epochs):\n",
    "        progress_epoch.value = i_epoch\n",
    "        epoch_loss = []\n",
    "        epoch_acc = []\n",
    "        for k in range(X_train.shape[0]):\n",
    "            progress_step.value = k\n",
    "            v = train_one(X_train[k], y_train[k], 0.0001)\n",
    "            epoch_loss.append(-np.sum(one_hot(y_train[k])*np.log(v['y_output'])))\n",
    "            epoch_acc.append(np.argmax(v['y_output']) == y_train[k])\n",
    "#             W_conv += v['update_conv']\n",
    "            padded_weights = W_conv[:, :-1].reshape((-1, 7, 28))\n",
    "            padded_weights[:, :, :7] += v['update_conv'][:,:-1].reshape((-1,7,7))\n",
    "            W_conv[:, -1] += v['update_conv'][:,-1]\n",
    "            W_out += v['update_out']\n",
    "        acc.append(np.mean(epoch_acc))\n",
    "        loss.append(np.mean(epoch_loss))\n",
    "        epoch_vacc = []\n",
    "        for x, d in zip(X_test, y_test):\n",
    "            y = model(x)\n",
    "            epoch_vacc.append(np.argmax(y) == d)\n",
    "        vacc.append(np.mean(epoch_vacc))\n",
    "        "
   ]
  },
  {
   "cell_type": "code",
   "execution_count": 9,
   "metadata": {},
   "outputs": [
    {
     "data": {
      "application/vnd.jupyter.widget-view+json": {
       "model_id": "9b1a348c69aa45b5bbcdcfff517d4a6a",
       "version_major": 2,
       "version_minor": 0
      },
      "text/plain": [
       "IntProgress(value=0, description='epoch', max=10)"
      ]
     },
     "metadata": {},
     "output_type": "display_data"
    }
   ],
   "source": [
    "progress_test = IntProgress(description='epoch', min=0, max=10)\n",
    "display(progress_test)"
   ]
  },
  {
   "cell_type": "code",
   "execution_count": 10,
   "metadata": {},
   "outputs": [
    {
     "data": {
      "text/plain": [
       "[<matplotlib.lines.Line2D at 0x7fa04c63f2b0>]"
      ]
     },
     "execution_count": 10,
     "metadata": {},
     "output_type": "execute_result"
    },
    {
     "data": {
      "image/png": "[encoded data removed]",
      "text/plain": [
       "<Figure size 432x288 with 1 Axes>"
      ]
     },
     "metadata": {
      "needs_background": "light"
     },
     "output_type": "display_data"
    }
   ],
   "source": [
    "plt.plot(list(range(epochs)), loss)"
   ]
  },
  {
   "cell_type": "code",
   "execution_count": 11,
   "metadata": {},
   "outputs": [
    {
     "data": {
      "text/plain": [
       "<matplotlib.legend.Legend at 0x7fa045f52dd8>"
      ]
     },
     "execution_count": 11,
     "metadata": {},
     "output_type": "execute_result"
    },
    {
     "data": {
      "image/png": "[encoded data removed]",
      "text/plain": [
       "<Figure size 432x288 with 1 Axes>"
      ]
     },
     "metadata": {
      "needs_background": "light"
     },
     "output_type": "display_data"
    }
   ],
   "source": [
    "plt.plot(list(range(epochs)), acc, label='acc')\n",
    "plt.plot(list(range(epochs)), vacc, label='vacc')\n",
    "plt.legend()"
   ]
  },
  {
   "cell_type": "code",
   "execution_count": null,
   "metadata": {},
   "outputs": [],
   "source": [
    "for i in range(W_conv.shape[0]):\n",
    "    fig = plt.figure()\n",
    "    plt.imshow(W_conv[i, :-1].reshape((7, 28))[:, :7].reshape(7, 7).T)\n",
    "    plt.colorbar()\n",
    "    plt.show()\n",
    "    plt.close(fig)"
   ]
  },
  {
   "cell_type": "code",
   "execution_count": null,
   "metadata": {},
   "outputs": [],
   "source": []
  }
 ],
 "metadata": {
  "kernelspec": {
   "display_name": "Python 3",
   "language": "python",
   "name": "python3"
  },
  "language_info": {
   "codemirror_mode": {
    "name": "ipython",
    "version": 3
   },
   "file_extension": ".py",
   "mimetype": "text/x-python",
   "name": "python",
   "nbconvert_exporter": "python",
   "pygments_lexer": "ipython3",
   "version": "3.6.7"
  }
 },
 "nbformat": 4,
 "nbformat_minor": 2
}

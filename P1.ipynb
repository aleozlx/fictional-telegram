{
 "cells": [
  {
   "cell_type": "code",
   "execution_count": 20,
   "metadata": {},
   "outputs": [],
   "source": [
    "import numpy as np\n",
    "\n",
    "wGreenNeuron = np.array([1.73673761, 1.89791391, -2.10677342, -0.14891209, 0.58306155])\n",
    "wOrangeNeuron = np.array([-2.25923303, 0.13723954, -0.70121322, -0.62078008, -0.47961976])\n",
    "wOutputNeuron = np.array([[1.20973877, -1.07518386, 0.80691921, -0.29078347, -0.22094764, -0.16915604,\n",
    "    1.10083444, 0.08251052, -0.00437558, -1.72255825, 1.05755642, -2.51791281, -1.91064012]])\n",
    "\n",
    "X = np.array([\n",
    "    [0, 0, 0.8, 0.4, 0.4, 0.1, 0, 0, 0],\n",
    "    [0, 0.3, 0.3, 0.8, 0.3, 0, 0, 0, 0],\n",
    "    [0, 0, 0, 0, 0.3, 0.3, 0.8, 0.3, 0],\n",
    "    [0, 0, 0, 0, 0, 0.8, 0.4, 0.4, 0.1],\n",
    "    [0.8, 0.4, 0.4, 0.1, 0, 0, 0, 0, 0],\n",
    "    [0, 0, 0, 0, 0, 0.3, 0.3, 0.8, 0.3],\n",
    "])\n",
    "\n",
    "y = np.array([-1, 1, 1, -1, -1, 1])"
   ]
  },
  {
   "cell_type": "code",
   "execution_count": 21,
   "metadata": {},
   "outputs": [],
   "source": [
    "def shared_layer(w, n):\n",
    "    nW = w.shape[0] - 1 # number of weights (excluding bias) in the layer\n",
    "    forward = lambda s: np.tanh(np.dot(w, np.append(s, 1.0)))\n",
    "    return lambda x: np.array([forward(x[i: i+nW]) for i in range(n)])\n",
    "\n",
    "layerGreen = shared_layer(wGreenNeuron, 6)\n",
    "layerOrange = shared_layer(wOrangeNeuron, 6)\n",
    "layerOutput = lambda alpha, beta: np.tanh(np.dot(wOutputNeuron, np.append(np.concatenate((alpha, beta)), 1.0) ))\n",
    "model = lambda x: layerOutput(layerGreen(x), layerOrange(x))"
   ]
  },
  {
   "cell_type": "code",
   "execution_count": 22,
   "metadata": {},
   "outputs": [
    {
     "data": {
      "text/plain": [
       "array([-0.9862915])"
      ]
     },
     "execution_count": 22,
     "metadata": {},
     "output_type": "execute_result"
    }
   ],
   "source": [
    "model(X[0])"
   ]
  },
  {
   "cell_type": "code",
   "execution_count": null,
   "metadata": {},
   "outputs": [],
   "source": []
  }
 ],
 "metadata": {
  "kernelspec": {
   "display_name": "Python 3",
   "language": "python",
   "name": "python3"
  },
  "language_info": {
   "codemirror_mode": {
    "name": "ipython",
    "version": 3
   },
   "file_extension": ".py",
   "mimetype": "text/x-python",
   "name": "python",
   "nbconvert_exporter": "python",
   "pygments_lexer": "ipython3",
   "version": "3.6.7"
  }
 },
 "nbformat": 4,
 "nbformat_minor": 2
}
